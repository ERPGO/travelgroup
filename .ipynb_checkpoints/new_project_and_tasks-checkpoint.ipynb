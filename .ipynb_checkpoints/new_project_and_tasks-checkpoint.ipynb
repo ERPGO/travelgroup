{
 "cells": [
  {
   "cell_type": "code",
   "execution_count": 18,
   "metadata": {},
   "outputs": [],
   "source": [
    "for project in ('API', 'Vizam', 'BackPack'):\n",
    "    obj.create({'name': project})\n",
    "obj_task = env['project.task']\n",
    "projects = env['project.project'].search([])\n",
    "for project in projects:\n",
    "    obj_task.create({'name': 'Overtime', 'project_id': project.id})\n",
    "    obj_task.create({'name': 'Normal Time', 'project_id': project.id})"
   ]
  }
 ],
 "metadata": {
  "kernelspec": {
   "display_name": "Odoo-shell",
   "language": "",
   "name": "odoo"
  },
  "language_info": {
   "codemirror_mode": {
    "name": "ipython",
    "version": 3
   },
   "file_extension": ".py",
   "mimetype": "text/x-python",
   "name": "python",
   "nbconvert_exporter": "python",
   "pygments_lexer": "ipython3",
   "version": "3.6.7"
  }
 },
 "nbformat": 4,
 "nbformat_minor": 2
}
