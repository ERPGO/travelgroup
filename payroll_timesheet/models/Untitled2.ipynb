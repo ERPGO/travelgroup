{
 "cells": [
  {
   "cell_type": "code",
   "execution_count": 106,
   "metadata": {},
   "outputs": [
    {
     "name": "stdout",
     "output_type": "stream",
     "text": [
      "27.2727272727273\n"
     ]
    }
   ],
   "source": [
    "payslip = env['hr.payslip'].search([('id', '=', '5')]).all_project_hours\n",
    "payslip\n",
    "for line in payslip:\n",
    "    if line.project_id.name == 'API':\n",
    "        print(line.project_split)"
   ]
  },
  {
   "cell_type": "code",
   "execution_count": 95,
   "metadata": {},
   "outputs": [
    {
     "data": {
      "text/plain": [
       "[{'id': 7,\n",
       "  'name': 'hr.payslip.projects(7,)',\n",
       "  'project_id': (47, 'API'),\n",
       "  'project_hours': 15.0,\n",
       "  'overtime_hours': 5.0,\n",
       "  'project_split': 27.2727272727273,\n",
       "  'slip_id': (5, 'Salary Slip of Mitchell Admin for January-2019'),\n",
       "  'create_uid': (2, 'Mitchell Admin'),\n",
       "  'create_date': datetime.datetime(2019, 1, 10, 12, 21, 50, 825674),\n",
       "  'write_uid': (1, 'OdooBot'),\n",
       "  'write_date': datetime.datetime(2019, 1, 11, 14, 59, 1, 583001),\n",
       "  'display_name': 'hr.payslip.projects(7,)',\n",
       "  '__last_update': datetime.datetime(2019, 1, 11, 14, 59, 1, 583001)},\n",
       " {'id': 10,\n",
       "  'name': False,\n",
       "  'project_id': (47, 'API'),\n",
       "  'project_hours': 10.0,\n",
       "  'overtime_hours': 0.0,\n",
       "  'project_split': 33.3333333333333,\n",
       "  'slip_id': (6, 'Salary Slip of Anita Oliver for January-2019'),\n",
       "  'create_uid': (2, 'Mitchell Admin'),\n",
       "  'create_date': datetime.datetime(2019, 1, 10, 12, 48, 2, 348197),\n",
       "  'write_uid': (2, 'Mitchell Admin'),\n",
       "  'write_date': datetime.datetime(2019, 1, 10, 12, 48, 2, 348197),\n",
       "  'display_name': 'False',\n",
       "  '__last_update': datetime.datetime(2019, 1, 10, 12, 48, 2, 348197)}]"
      ]
     },
     "execution_count": 95,
     "metadata": {},
     "output_type": "execute_result"
    }
   ],
   "source": [
    "payslip.all_project_hours.search_read([('project_id.name', '=', 'API')])"
   ]
  },
  {
   "cell_type": "code",
   "execution_count": 87,
   "metadata": {},
   "outputs": [],
   "source": [
    "for unit in payslip.all_project_hours:\n",
    "    unit.mapped('project_id.name')"
   ]
  },
  {
   "cell_type": "code",
   "execution_count": 148,
   "metadata": {},
   "outputs": [],
   "source": [
    "def _get_split(self, project):\n",
    "    payslip = env['hr.payslip'].search([('id', '=', '5')])\n",
    "    for line in payslip.all_project_hours:\n",
    "        if line.project_id.name == project:\n",
    "            project_split = line.project_split\n",
    "    return project_split"
   ]
  },
  {
   "cell_type": "code",
   "execution_count": 151,
   "metadata": {},
   "outputs": [
    {
     "data": {
      "text/plain": [
       "27.2727272727273"
      ]
     },
     "execution_count": 151,
     "metadata": {},
     "output_type": "execute_result"
    }
   ],
   "source": [
    "_get_split(self, 'API')"
   ]
  },
  {
   "cell_type": "code",
   "execution_count": 122,
   "metadata": {},
   "outputs": [
    {
     "ename": "AttributeError",
     "evalue": "'hr.payslip' object has no attribute '_get_project_split'",
     "output_type": "error",
     "traceback": [
      "\u001b[0;31m---------------------------------------------------------------------------\u001b[0m",
      "\u001b[0;31mAttributeError\u001b[0m                            Traceback (most recent call last)",
      "\u001b[0;32m<ipython-input-122-d9ad9b5119e5>\u001b[0m in \u001b[0;36m<module>\u001b[0;34m\u001b[0m\n\u001b[0;32m----> 1\u001b[0;31m \u001b[0menv\u001b[0m\u001b[0;34m[\u001b[0m\u001b[0;34m'hr.payslip'\u001b[0m\u001b[0;34m]\u001b[0m\u001b[0;34m.\u001b[0m\u001b[0m_get_project_split\u001b[0m\u001b[0;34m(\u001b[0m\u001b[0;34m)\u001b[0m\u001b[0;34m\u001b[0m\u001b[0;34m\u001b[0m\u001b[0m\n\u001b[0m",
      "\u001b[0;31mAttributeError\u001b[0m: 'hr.payslip' object has no attribute '_get_project_split'"
     ]
    }
   ],
   "source": [
    "env['hr.payslip']._get_project_split()"
   ]
  },
  {
   "cell_type": "code",
   "execution_count": 138,
   "metadata": {},
   "outputs": [],
   "source": [
    "from odoo import models, api, fields, _\n",
    "class NewClass(models.Model):\n",
    "    _inherit = 'hr.payslip'\n",
    "    @api.multi\n",
    "    def _get_project_split(self, project):\n",
    "        for line in self.all_project_hours:\n",
    "            if line.project_id.name == project:\n",
    "                project_split = line.project_split\n",
    "            return project_split"
   ]
  },
  {
   "cell_type": "code",
   "execution_count": 147,
   "metadata": {},
   "outputs": [
    {
     "ename": "AttributeError",
     "evalue": "'hr.payslip' object has no attribute '_get_project_split'",
     "output_type": "error",
     "traceback": [
      "\u001b[0;31m---------------------------------------------------------------------------\u001b[0m",
      "\u001b[0;31mAttributeError\u001b[0m                            Traceback (most recent call last)",
      "\u001b[0;32m<ipython-input-147-79447411ff1f>\u001b[0m in \u001b[0;36m<module>\u001b[0;34m\u001b[0m\n\u001b[0;32m----> 1\u001b[0;31m \u001b[0menv\u001b[0m\u001b[0;34m[\u001b[0m\u001b[0;34m'hr.payslip'\u001b[0m\u001b[0;34m]\u001b[0m\u001b[0;34m.\u001b[0m\u001b[0msearch\u001b[0m\u001b[0;34m(\u001b[0m\u001b[0;34m[\u001b[0m\u001b[0;34m(\u001b[0m\u001b[0;34m'id'\u001b[0m\u001b[0;34m,\u001b[0m \u001b[0;34m'='\u001b[0m\u001b[0;34m,\u001b[0m \u001b[0;34m'5'\u001b[0m\u001b[0;34m)\u001b[0m\u001b[0;34m]\u001b[0m\u001b[0;34m)\u001b[0m\u001b[0;34m.\u001b[0m\u001b[0m_get_project_split\u001b[0m\u001b[0;34m(\u001b[0m\u001b[0;34m'API'\u001b[0m\u001b[0;34m)\u001b[0m\u001b[0;34m\u001b[0m\u001b[0;34m\u001b[0m\u001b[0m\n\u001b[0m",
      "\u001b[0;31mAttributeError\u001b[0m: 'hr.payslip' object has no attribute '_get_project_split'"
     ]
    }
   ],
   "source": [
    "env['hr.payslip'].search([('id', '=', '5')])._get_project_split('API')"
   ]
  },
  {
   "cell_type": "code",
   "execution_count": null,
   "metadata": {},
   "outputs": [],
   "source": []
  }
 ],
 "metadata": {
  "kernelspec": {
   "display_name": "Odoo-shell",
   "language": "",
   "name": "odoo"
  },
  "language_info": {
   "codemirror_mode": {
    "name": "ipython",
    "version": 3
   },
   "file_extension": ".py",
   "mimetype": "text/x-python",
   "name": "python",
   "nbconvert_exporter": "python",
   "pygments_lexer": "ipython3",
   "version": "3.6.7"
  }
 },
 "nbformat": 4,
 "nbformat_minor": 2
}
