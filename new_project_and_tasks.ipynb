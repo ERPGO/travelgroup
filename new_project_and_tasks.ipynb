{
 "cells": [
  {
   "cell_type": "markdown",
   "metadata": {},
   "source": [
    "Cleanup all tasks and projects"
   ]
  },
  {
   "cell_type": "code",
   "execution_count": 2,
   "metadata": {},
   "outputs": [],
   "source": [
    "tasks = env['project.task'].search([])\n",
    "for task in tasks:\n",
    "    task.unlink()\n",
    "projects = env['project.project'].search([])\n",
    "for project in projects:\n",
    "    project.unlink()"
   ]
  },
  {
   "cell_type": "markdown",
   "metadata": {},
   "source": [
    "Create API, Vizam, Backpack projects and Normal,Overtime tasks per each"
   ]
  },
  {
   "cell_type": "code",
   "execution_count": 4,
   "metadata": {},
   "outputs": [],
   "source": [
    "obj = env['project.project']\n",
    "for project in ('API', 'Vizam', 'BackPack'):\n",
    "    obj.create({'name': project})\n",
    "obj_task = env['project.task']\n",
    "projects = env['project.project'].search([])\n",
    "for project in projects:\n",
    "    obj_task.create({'name': 'Overtime', 'project_id': project.id})\n",
    "    obj_task.create({'name': 'Normal Time', 'project_id': project.id})"
   ]
  },
  {
   "cell_type": "markdown",
   "metadata": {},
   "source": [
    "Create salary rules for testing"
   ]
  },
  {
   "cell_type": "code",
   "execution_count": 12,
   "metadata": {},
   "outputs": [
    {
     "data": {
      "text/plain": [
       "hr.salary.rule.category(10,)"
      ]
     },
     "execution_count": 12,
     "metadata": {},
     "output_type": "execute_result"
    }
   ],
   "source": [
    "categories = env['hr.salary.rule.category']\n",
    "categories.create({'name': 'AZ-TRAVEL', 'code': 'AZ-TRAVEL'})"
   ]
  },
  {
   "cell_type": "code",
   "execution_count": 16,
   "metadata": {},
   "outputs": [],
   "source": [
    "structures = env['hr.payroll.structure']\n",
    "rules = env['hr.salary.rule']\n",
    "az_category_id = categories.search([('name', '=', 'AZ-TRAVEL')])\n",
    "for rule in ('API', 'Vizam', 'BackPack'):\n",
    "    rules.create({'name': rule, 'code': rule.upper(), 'category_id': az_category_id.id})"
   ]
  },
  {
   "cell_type": "code",
   "execution_count": null,
   "metadata": {},
   "outputs": [],
   "source": []
  },
  {
   "cell_type": "code",
   "execution_count": null,
   "metadata": {},
   "outputs": [],
   "source": []
  }
 ],
 "metadata": {
  "kernelspec": {
   "display_name": "Odoo-shell",
   "language": "",
   "name": "odoo"
  },
  "language_info": {
   "codemirror_mode": {
    "name": "ipython",
    "version": 3
   },
   "file_extension": ".py",
   "mimetype": "text/x-python",
   "name": "python",
   "nbconvert_exporter": "python",
   "pygments_lexer": "ipython3",
   "version": "3.6.7"
  }
 },
 "nbformat": 4,
 "nbformat_minor": 2
}
